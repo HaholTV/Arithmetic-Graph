{
 "cells": [
  {
   "cell_type": "markdown",
   "metadata": {},
   "source": [
    "# Graf arytmetyczny\n",
    "\n",
    "## Cel pracy: Implementacja REPL pętli oszacowującej wyrażenia arytmetyczne za pomocą drzewa składniowego (w naszej implementacji nazywamy go grafem arytmetycznym)\n",
    "\n",
    "### Opis zagadnienia: Graf arytmetyczny to jest rekurencyjna struktura danych pomagająca oszacować wyrażenia arytmetyczne w notacji infiksowej (wewnętrznie korzystując się notacje posfiksową inaczej nazywana odwrotna notacja polska)\n",
    "\n",
    "#### Krótkie definicje terminów i pojęć wykorzystywanych dalej w opisie\n",
    "\n",
    "* **REPL** (ang. read-eval-print loop) – proste, interaktywne środowisko programowania. Popularne przykłady to wiersz poleceń powłoki również środowiska języków programowania takich jak Python, Ruby, Haskell, Scheme, Clojure i wielu innych. Praktycznie każdy język uruchamiany jako interpreter posiada REPL. Dzięki REPL użytkownik może wprowadzać polecenia, które zostaną wykonane a ich wynik wypisany na ekran.\n",
    "* **Wyrażenie arytmetyczne** – w językach programowania dowolne wyrażenie typu liczbowego. Może być ono złożone ze zmiennych, liczb, symboli działań itp.\n",
    "* **Drzewo składniowe**, drzewo **AST** (ang. abstract syntax tree) czyli drzewo składni abstrakcyjnej - drzewo etykietowane, wynik przeprowadzenia analizy składniowej zdania (słowa) zgodnie z pewną gramatyką. Każdy węzeł wewnętrzny tego drzewa reprezentują pewną konstrukcję języka, a jego synowie znaczące składowe tej konstrukcji.\n",
    "* **Zapis infiksowy** (zapis wrostkowy) – klasyczny sposób zapisywania wyrażeń z binarnymi (dwuargumentowymi) operacjami arytmetycznymi (dodawanie, mnożenie, potęgowanie, itd.).\n",
    "* **Odwrotna notacja polska** (ONP, ang. reverse Polish notation, RPN) – sposób zapisu wyrażeń arytmetycznych, w którym znak wykonywanej operacji umieszczony jest po operandach (zapis postfiksowy), a nie pomiędzy nimi jak w konwencjonalnym zapisie algebraicznym (zapis infiksowy) lub przed operandami jak w zwykłej notacji polskiej (zapis prefiksowy). Zapis ten pozwala na całkowitą rezygnację z użycia nawiasów w wyrażeniach, jako że jednoznacznie określa kolejność wykonywanych działań.\n",
    "\n",
    "\n",
    "#### Instrukcja obsługi\n",
    "1. Uruchomić program (w środowisku *jupyter notebook* nacisnąć przycisk **Run**) - musi się pojawić okno proszące o wprowadzenie wyrażenia.\n",
    "2. Wpowadzić wyrażenie. Dozwolone symbole: 0-9, +, -, *, /, %, A-Z, a-z, (, ), [spacja]. Wyrażenie musi być w notacji infiksowej (niezapomnieć nacisnąć Enter). I zaczekać na pojawienie się obrazu z grafem arytmetycznym reprezentującym wprowadzone wyrażenie.\n",
    "3. Aby zakończyć sesje z programem wpisz \"koniec zabawy\" lub \"q\" (od ang. quit)\n",
    "\n",
    "#### Przykładowa sesja z programem:\n",
    "* wejscie: ``(2 + 2.7182) * x``\n",
    "* wyjście:\n",
    "![przykład](../img/przyklad.png)\n",
    "\n",
    "#### Detale implementacji\n",
    "\n",
    "#### Linki\n",
    "\n",
    "1. [netwokx](https://networkx.github.io/documentation/stable/tutorial.html)\n",
    "2. [matplotlib](https://matplotlib.org/)\n",
    "3. https://www.python.org/\n",
    "4. https://www.wikipedia.org/"
   ]
  },
  {
   "cell_type": "code",
   "execution_count": 1,
   "metadata": {},
   "outputs": [],
   "source": [
    "%matplotlib inline\n",
    "\n",
    "import matplotlib.pyplot as plt\n",
    "import networkx as nx\n",
    "import numpy as np\n",
    "\n",
    "# Zefiniowanie probemu w networkx\n",
    "# Użycie funkcji do analizy grafu\n",
    "# Mile widziany opis funkcji"
   ]
  },
  {
   "cell_type": "markdown",
   "metadata": {},
   "source": [
    "## Wnioski i podsumowanie"
   ]
  },
  {
   "cell_type": "code",
   "execution_count": null,
   "metadata": {},
   "outputs": [],
   "source": []
  }
 ],
 "metadata": {
  "kernelspec": {
   "display_name": "Python 3",
   "language": "python",
   "name": "python3"
  },
  "language_info": {
   "codemirror_mode": {
    "name": "ipython",
    "version": 3
   },
   "file_extension": ".py",
   "mimetype": "text/x-python",
   "name": "python",
   "nbconvert_exporter": "python",
   "pygments_lexer": "ipython3",
   "version": "3.7.3"
  }
 },
 "nbformat": 4,
 "nbformat_minor": 2
}
