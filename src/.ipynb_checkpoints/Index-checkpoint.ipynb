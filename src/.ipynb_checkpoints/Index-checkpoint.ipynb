{
 "cells": [
  {
   "cell_type": "code",
   "execution_count": 1,
   "metadata": {},
   "outputs": [
    {
     "name": "stdout",
     "output_type": "stream",
     "text": [
      "Wprowadz wyrażenie matematyczne: 2 - 2\n"
     ]
    },
    {
     "name": "stderr",
     "output_type": "stream",
     "text": [
      "/usr/local/lib/python3.7/dist-packages/networkx/drawing/nx_pylab.py:579: MatplotlibDeprecationWarning: \n",
      "The iterable function was deprecated in Matplotlib 3.1 and will be removed in 3.3. Use np.iterable instead.\n",
      "  if not cb.iterable(width):\n",
      "/usr/local/lib/python3.7/dist-packages/networkx/drawing/nx_pylab.py:676: MatplotlibDeprecationWarning: \n",
      "The iterable function was deprecated in Matplotlib 3.1 and will be removed in 3.3. Use np.iterable instead.\n",
      "  if cb.iterable(node_size):  # many node sizes\n"
     ]
    },
    {
     "data": {
      "image/png": "[encoded data removed]",
      "text/plain": [
       "<Figure size 720x720 with 1 Axes>"
      ]
     },
     "metadata": {},
     "output_type": "display_data"
    },
    {
     "name": "stdout",
     "output_type": "stream",
     "text": [
      "Wprowadz wyrażenie matematyczne: q\n",
      "\n",
      "Zabawa się skończyła\n"
     ]
    },
    {
     "ename": "AttributeError",
     "evalue": "module 'matplotlib.pyplot' has no attribute 'savafig'",
     "output_type": "error",
     "traceback": [
      "\u001b[0;31m---------------------------------------------------------------------------\u001b[0m",
      "\u001b[0;31mAttributeError\u001b[0m                            Traceback (most recent call last)",
      "\u001b[0;32m<ipython-input-1-db0a38620e7d>\u001b[0m in \u001b[0;36m<module>\u001b[0;34m\u001b[0m\n\u001b[1;32m     32\u001b[0m \u001b[0mprint\u001b[0m\u001b[0;34m(\u001b[0m\u001b[0;34m\"\\nZabawa się skończyła\"\u001b[0m\u001b[0;34m)\u001b[0m\u001b[0;34m\u001b[0m\u001b[0;34m\u001b[0m\u001b[0m\n\u001b[1;32m     33\u001b[0m \u001b[0;34m\u001b[0m\u001b[0m\n\u001b[0;32m---> 34\u001b[0;31m \u001b[0mplt\u001b[0m\u001b[0;34m.\u001b[0m\u001b[0msavafig\u001b[0m\u001b[0;34m(\u001b[0m\u001b[0;34m'przykład'\u001b[0m\u001b[0;34m)\u001b[0m\u001b[0;34m\u001b[0m\u001b[0;34m\u001b[0m\u001b[0m\n\u001b[0m",
      "\u001b[0;31mAttributeError\u001b[0m: module 'matplotlib.pyplot' has no attribute 'savafig'"
     ]
    }
   ],
   "source": [
    "%matplotlib inline\n",
    "\n",
    "import matplotlib.pyplot as plt\n",
    "from utils.tokenize import tokenize\n",
    "from utils.shunting_yard import convert\n",
    "from utils.ast import create_graph\n",
    "from utils.draw import draw\n",
    "\n",
    "user_input = input(\"Wprowadz wyrażenie matematyczne: \")\n",
    "\n",
    "# Pętla prosi użytkownika o wpisanie wyrażenia arytmetycznego (lub \"koniec zabawy\" albo \"q\", aby wyjść)\n",
    "# następnie tworzy w 3-ech krokach graf arytmetyczny i maluje go\n",
    "while user_input.lower() != \"koniec zabawy\" and user_input.lower() != \"q\":\n",
    "    plt.figure(figsize=(10,10))\n",
    "    # Maluje graf arytmetyczny\n",
    "    draw(\n",
    "        # Krok № 3 funkcja stwarza objekt klasy DiGraph (z bibloteki networkx) przedstawiający\n",
    "        # graf arytmetyczny\n",
    "        create_graph(\n",
    "            # Krok № 2 funkcja przyjmuje jako argument listę symbolów w notacji infiksowej\n",
    "            # i przetwarza go w odwrotną notacje polską (też w formie listy symbolów)\n",
    "            convert(\n",
    "                # Krok № 1 funkcja przyjmuje jako argument tekst arytmetycznego wyrarzenia\n",
    "                # i przetwarza go w formę listy (tablicy) symbolów\n",
    "                tokenize(user_input)\n",
    "            )\n",
    "        )\n",
    "    )\n",
    "    plt.show()\n",
    "    user_input = input(\"Wprowadz wyrażenie matematyczne: \")\n",
    "    \n",
    "print(\"\\nZabawa się skończyła\")"
   ]
  },
  {
   "cell_type": "code",
   "execution_count": null,
   "metadata": {},
   "outputs": [],
   "source": []
  },
  {
   "cell_type": "code",
   "execution_count": null,
   "metadata": {},
   "outputs": [],
   "source": []
  },
  {
   "cell_type": "code",
   "execution_count": null,
   "metadata": {},
   "outputs": [],
   "source": []
  },
  {
   "cell_type": "code",
   "execution_count": null,
   "metadata": {},
   "outputs": [],
   "source": []
  }
 ],
 "metadata": {
  "kernelspec": {
   "display_name": "Python 3",
   "language": "python",
   "name": "python3"
  },
  "language_info": {
   "codemirror_mode": {
    "name": "ipython",
    "version": 3
   },
   "file_extension": ".py",
   "mimetype": "text/x-python",
   "name": "python",
   "nbconvert_exporter": "python",
   "pygments_lexer": "ipython3",
   "version": "3.7.3"
  }
 },
 "nbformat": 4,
 "nbformat_minor": 2
}
