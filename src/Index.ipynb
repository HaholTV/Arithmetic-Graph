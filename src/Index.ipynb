{
 "cells": [
  {
   "cell_type": "code",
   "execution_count": null,
   "metadata": {},
   "outputs": [],
   "source": [
    "%matplotlib inline\n",
    "\n",
    "import matplotlib.pyplot as plt\n",
    "from utils.tokenize import tokenize\n",
    "from utils.shunting_yard import convert\n",
    "from utils.ast import create_graph\n",
    "from utils.draw import draw\n",
    "\n",
    "user_input = input(\"Wprowadz wyrażenie matematyczne: \")\n",
    "\n",
    "# Pętla prosi użytkownika o wpisanie wyrażenia arytmetycznego (lub \"koniec zabawy\" albo \"q\", aby wyjść)\n",
    "# następnie tworzy w 3-ech krokach graf arytmetyczny i maluje go\n",
    "while user_input.lower() != \"koniec zabawy\" and user_input.lower() != \"q\":\n",
    "    plt.figure(figsize=(10,10))\n",
    "    # Maluje graf arytmetyczny\n",
    "    draw(\n",
    "        # Krok № 3 funkcja stwarza objekt klasy DiGraph (z bibloteki networkx) przedstawiający\n",
    "        # graf arytmetyczny\n",
    "        create_graph(\n",
    "            # Krok № 2 funkcja przyjmuje jako argument listę symbolów w notacji infiksowej\n",
    "            # i przetwarza go w odwrotną notacje polską (też w formie listy symbolów)\n",
    "            convert(\n",
    "                # Krok № 1 funkcja przyjmuje jako argument tekst arytmetycznego wyrarzenia\n",
    "                # i przetwarza go w formę listy (tablicy) symbolów\n",
    "                tokenize(user_input)\n",
    "            )\n",
    "        )\n",
    "    )\n",
    "    plt.show()\n",
    "    user_input = input(\"Wprowadz wyrażenie matematyczne: \")\n",
    "    \n",
    "print(\"\\nZabawa się skończyła\")"
   ]
  },
  {
   "cell_type": "code",
   "execution_count": null,
   "metadata": {},
   "outputs": [],
   "source": []
  },
  {
   "cell_type": "code",
   "execution_count": null,
   "metadata": {},
   "outputs": [],
   "source": []
  },
  {
   "cell_type": "code",
   "execution_count": null,
   "metadata": {},
   "outputs": [],
   "source": []
  },
  {
   "cell_type": "code",
   "execution_count": null,
   "metadata": {},
   "outputs": [],
   "source": []
  }
 ],
 "metadata": {
  "kernelspec": {
   "display_name": "Python 3",
   "language": "python",
   "name": "python3"
  },
  "language_info": {
   "codemirror_mode": {
    "name": "ipython",
    "version": 3
   },
   "file_extension": ".py",
   "mimetype": "text/x-python",
   "name": "python",
   "nbconvert_exporter": "python",
   "pygments_lexer": "ipython3",
   "version": "3.7.3"
  }
 },
 "nbformat": 4,
 "nbformat_minor": 2
}
