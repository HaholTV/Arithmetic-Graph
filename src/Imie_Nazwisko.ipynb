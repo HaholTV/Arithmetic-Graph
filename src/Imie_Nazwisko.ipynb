{
 "cells": [
  {
   "cell_type": "markdown",
   "metadata": {},
   "source": [
    "# Tytuł\n",
    "\n",
    "## Cel pracy\n",
    "\n",
    "### Opis zagadnienia\n",
    "\n",
    "Treść zagadnienia\n",
    "\n",
    "1. Punkt pierwszy\n",
    "2. Punkt drugi\n",
    "\n",
    "\n",
    "* Lista 1\n",
    "* Lista 2\n",
    "\n",
    "> Lemat\n",
    "> Treść Twierdzenia\n",
    "\n",
    "Jeśli chcemy wzrór umiścić w akapicie to $a^2 + b^2 = c^2$. Jeszcze jeden przykład $c_{11}+c_{13}= 23$.\n",
    "\n",
    "Wzór wyróżniony:\n",
    "\n",
    "\\begin{equation}\n",
    "\\int_0^{0.5} f(x)\n",
    "\\end{equation}\n",
    "\n",
    "### Tabela\n",
    "\n",
    "|Kol1 | Kol2 | Kol3|\n",
    "|-----|------|-----|\n",
    "|22.2|33.4|44.5|\n",
    "|22.2|33.4|44.5|\n",
    "\n",
    "### Obrazy\n",
    "\n",
    "![Obraz1](fig1.png)\n",
    "\n",
    "### Linki\n",
    "\n",
    "1. [netwokx](https://networkx.github.io/documentation/stable/tutorial.html)\n",
    "2. [numpy](http://www.numpy.org/)\n",
    "2. https://www.python.org/"
   ]
  },
  {
   "cell_type": "code",
   "execution_count": 1,
   "metadata": {},
   "outputs": [],
   "source": [
    "%matplotlib inline\n",
    "\n",
    "import matplotlib.pyplot as plt\n",
    "import networkx as nx\n",
    "import numpy as np\n",
    "\n",
    "# Zefiniowanie probemu w networkx\n",
    "# Użycie funkcji do analizy grafu\n",
    "# Mile widziany opis funkcji"
   ]
  },
  {
   "cell_type": "markdown",
   "metadata": {},
   "source": [
    "## Wnioski i podsumowanie"
   ]
  },
  {
   "cell_type": "code",
   "execution_count": null,
   "metadata": {},
   "outputs": [],
   "source": []
  }
 ],
 "metadata": {
  "kernelspec": {
   "display_name": "Python 3",
   "language": "python",
   "name": "python3"
  },
  "language_info": {
   "codemirror_mode": {
    "name": "ipython",
    "version": 3
   },
   "file_extension": ".py",
   "mimetype": "text/x-python",
   "name": "python",
   "nbconvert_exporter": "python",
   "pygments_lexer": "ipython3",
   "version": "3.7.0"
  }
 },
 "nbformat": 4,
 "nbformat_minor": 2
}
